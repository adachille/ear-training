{
 "cells": [
  {
   "cell_type": "markdown",
   "id": "d9100dce-c7cb-4167-8ff2-997a5d14ca92",
   "metadata": {},
   "source": [
    "# Ear Training Proof of Concept\n",
    "In this notebook, we will be creating a proof of concept for an ear training application. The application will play a random note and the user will have to guess the note. The application will then provide feedback on whether the user guessed correctly or not."
   ]
  },
  {
   "cell_type": "markdown",
   "id": "8dcbaaed-bc1d-44b9-90f7-2683bf054072",
   "metadata": {},
   "source": [
    "## Setup"
   ]
  },
  {
   "cell_type": "code",
   "execution_count": 1,
   "id": "04d955bd-66c3-4e70-8911-6a644a43d5ec",
   "metadata": {},
   "outputs": [],
   "source": [
    "%load_ext autoreload\n",
    "%autoreload 2\n",
    "\n",
    "import os\n",
    "os.chdir(\"..\") # Move execution to root dir"
   ]
  },
  {
   "cell_type": "code",
   "execution_count": 2,
   "id": "62f3bc07-bfe5-4e3a-92a8-50acc97d4f63",
   "metadata": {},
   "outputs": [
    {
     "name": "stdout",
     "output_type": "stream",
     "text": [
      "pygame 2.6.1 (SDL 2.28.4, Python 3.12.7)\n",
      "Hello from the pygame community. https://www.pygame.org/contribute.html\n"
     ]
    }
   ],
   "source": [
    "import json\n",
    "import random\n",
    "import re\n",
    "import time\n",
    "from pathlib import Path\n",
    "from typing import Union\n",
    "\n",
    "from IPython.display import clear_output\n",
    "from pygame import mixer"
   ]
  },
  {
   "cell_type": "code",
   "execution_count": 3,
   "id": "d9e3cacf-f61f-4239-a721-e10657628438",
   "metadata": {},
   "outputs": [],
   "source": [
    "RESOURCES_DIR = Path(\"resources\")\n",
    "AUDIO_DIR = RESOURCES_DIR / \"sounds/piano\"\n",
    "NOTE_DATA_FILE = RESOURCES_DIR / \"note_data.json\""
   ]
  },
  {
   "cell_type": "markdown",
   "id": "72e39bb6-1e82-4919-b594-2354880ecd35",
   "metadata": {},
   "source": [
    "## Get Note Data"
   ]
  },
  {
   "cell_type": "code",
   "execution_count": 4,
   "id": "ccf6007f-e44b-4146-941e-a71cdf8995c1",
   "metadata": {},
   "outputs": [],
   "source": [
    "NOTES = {\n",
    "    0: \"A0\", 1: \"A#0/Bb0\", 2: \"B0\", 3: \"C1\", 4: \"C#1/Db1\", 5: \"D1\", \n",
    "    6: \"D#1/Eb1\", 7: \"E1\", 8: \"F1\", 9: \"F#1/Gb1\", 10: \"G1\", 11: \"G#1/Ab1\", \n",
    "    12: \"A1\", 13: \"A#1/Bb1\", 14: \"B1\", 15: \"C2\", 16: \"C#2/Db2\", 17: \"D2\", \n",
    "    18: \"D#2/Eb2\", 19: \"E2\", 20: \"F2\", 21: \"F#2/Gb2\", 22: \"G2\", 23: \"G#2/Ab2\", \n",
    "    24: \"A2\", 25: \"A#2/Bb2\", 26: \"B2\", 27: \"C3\", 28: \"C#3/Db3\", 29: \"D3\", \n",
    "    30: \"D#3/Eb3\", 31: \"E3\", 32: \"F3\", 33: \"F#3/Gb3\", 34: \"G3\", 35: \"G#3/Ab3\", \n",
    "    36: \"A3\", 37: \"A#3/Bb3\", 38: \"B3\", 39: \"C4\", 40: \"C#4/Db4\", 41: \"D4\", \n",
    "    42: \"D#4/Eb4\", 43: \"E4\", 44: \"F4\", 45: \"F#4/Gb4\", 46: \"G4\", 47: \"G#4/Ab4\", \n",
    "    48: \"A4\", 49: \"A#4/Bb4\", 50: \"B4\", 51: \"C5\", 52: \"C#5/Db5\", 53: \"D5\", \n",
    "    54: \"D#5/Eb5\", 55: \"E5\", 56: \"F5\", 57: \"F#5/Gb5\", 58: \"G5\", 59: \"G#5/Ab5\", \n",
    "    60: \"A5\", 61: \"A#5/Bb5\", 62: \"B5\", 63: \"C6\", 64: \"C#6/Db6\", 65: \"D6\", \n",
    "    66: \"D#6/Eb6\", 67: \"E6\", 68: \"F6\", 69: \"F#6/Gb6\", 70: \"G6\", 71: \"G#6/Ab6\", \n",
    "    72: \"A6\", 73: \"A#6/Bb6\", 74: \"B6\", 75: \"C7\", 76: \"C#7/Db7\", 77: \"D7\", \n",
    "    78: \"D#7/Eb7\", 79: \"E7\", 80: \"F7\", 81: \"F#7/Gb7\", 82: \"G7\", 83: \"G#7/Ab7\", \n",
    "    84: \"A7\", 85: \"A#7/Bb7\", 86: \"B7\", 87: \"C8\"\n",
    "}\n",
    "\n",
    "def get_note_files(audio_dir: Union[str, Path]) -> list[str]:\n",
    "    note_files = []\n",
    "    for root, dirs, files in os.walk(audio_dir):\n",
    "        note_files.extend([filename for filename in files if filename.endswith(\".wav\")])\n",
    "    return sorted(note_files)\n",
    "    \n",
    "def get_note_data(audio_dir: Union[str, Path], save_loc: Union[str, Path]) -> list[dict]:\n",
    "    note_files = get_note_files(audio_dir)\n",
    "    note_data = []\n",
    "    for idx, note_file in enumerate(note_files):\n",
    "        full_note_name = NOTES[idx]\n",
    "        note_data.append(\n",
    "            {\n",
    "                \"idx\": idx,\n",
    "                \"full_note_name\": full_note_name,\n",
    "                \"note_name\": re.sub(r'[0-9]+', '', full_note_name),\n",
    "                \"file\": note_file,\n",
    "            }\n",
    "        )\n",
    "    with open(save_loc, \"w\") as f:\n",
    "        json.dump(note_data, f, indent=2)\n",
    "    return note_data"
   ]
  },
  {
   "cell_type": "code",
   "execution_count": 5,
   "id": "924c6f60-24d6-41e4-887c-4ebc26a3767a",
   "metadata": {},
   "outputs": [],
   "source": [
    "if not NOTE_DATA_FILE.exists():\n",
    "    note_data = get_note_data(AUDIO_DIR, NOTE_DATA_FILE)\n",
    "else:\n",
    "    with open(NOTE_DATA_FILE) as f:\n",
    "        note_data = json.load(f)"
   ]
  },
  {
   "cell_type": "markdown",
   "id": "997c2745-cd98-4258-8603-f07722b627cc",
   "metadata": {},
   "source": [
    "## Play notes at random"
   ]
  },
  {
   "cell_type": "code",
   "execution_count": 6,
   "id": "2556f721-6841-4a01-94e5-491f96406efa",
   "metadata": {},
   "outputs": [],
   "source": [
    "mixer.init()  # Initialize the mixer module.\n",
    "\n",
    "RANGE = (15, 65)  # Range of notes from which to play\n",
    "SELECTED_NOTES = [\"A\", \"C\", \"E\", \"G\"] # Notes to play\n",
    "INCORRECT_SLEEP_LENGTH = 1  # Length of time to wait after picking the incorrect note\n",
    "CORRECT_SLEEP_LENGTH = 3  # Length of time to wait after picking the correct note\n",
    "\n",
    "def note_is_allowed(note_data: dict, selected_notes: list[str]) -> bool:\n",
    "    return (\n",
    "        note_data[\"note_name\"] in selected_notes \n",
    "        and note_data[\"idx\"] >= RANGE[0] \n",
    "        and note_data[\"idx\"] <= RANGE[1]\n",
    "    )\n",
    "\n",
    "NOTES_TO_PLAY = [note for note in note_data if note_is_allowed(note, SELECTED_NOTES)]"
   ]
  },
  {
   "cell_type": "code",
   "execution_count": 24,
   "id": "53d5d884-983e-4942-af22-a51a610fc81f",
   "metadata": {},
   "outputs": [],
   "source": [
    "def get_accuracy_str(n_correct: int, n_attempts: int):\n",
    "    if n_attempts == 0:\n",
    "        return f\"{n_correct} / {n_attempts}\"\n",
    "    return f\"{n_correct} / {n_attempts} - {round(100 * n_correct / n_attempts, 2)}\"\n",
    "\n",
    "def get_note_prediction(note_sound_player: mixer.Sound, possible_choices: list[str]):\n",
    "    print(\n",
    "        f\"Possible note choices: {possible_choices}.\\n\\n\"\n",
    "        \"Type the note you think it is, 'q' to quit, \"\n",
    "        \"or anything else to replay the sound. Click enter when done.\"\n",
    "    )\n",
    "    while True:\n",
    "        note_sound_player.play()\n",
    "        note_choice = input().strip().upper()\n",
    "        if note_choice == \"Q\":\n",
    "            print(\"Quitting...\")\n",
    "            raise KeyboardInterrupt()\n",
    "        if note_choice in possible_choices:\n",
    "            return note_choice\n",
    "\n",
    "def run_game():\n",
    "    true_notes = []\n",
    "    predicted_notes = []\n",
    "    n_correct = 0\n",
    "    n_attempts = 0\n",
    "    last_note = None\n",
    "    quit = False\n",
    "    while True:\n",
    "        note = random.choice(NOTES_TO_PLAY)\n",
    "        while note == last_note:\n",
    "            note = random.choice(NOTES_TO_PLAY)\n",
    "            \n",
    "        note_sound_player = mixer.Sound(AUDIO_DIR / note[\"file\"])\n",
    "        possible_choices = list(SELECTED_NOTES)\n",
    "        while True:\n",
    "            print(f\"Results: {get_accuracy_str(n_correct, n_attempts)}\\n\")\n",
    "            try:\n",
    "                pred = get_note_prediction(note_sound_player, possible_choices)\n",
    "            except KeyboardInterrupt:\n",
    "                clear_output()\n",
    "                quit = True\n",
    "                break\n",
    "                \n",
    "            n_attempts += 1\n",
    "            true_notes.append(note[\"note_name\"])\n",
    "            predicted_notes.append(pred)\n",
    "            if pred != note[\"note_name\"]:\n",
    "                print(\"\\n\\nIncorrect note. Try again.\")\n",
    "                possible_choices.remove(pred)\n",
    "                time.sleep(INCORRECT_SLEEP_LENGTH)\n",
    "                clear_output()\n",
    "            else:\n",
    "                print(f'\\n\\nCorrect! Full note: {note[\"full_note_name\"]}')\n",
    "                n_correct += 1\n",
    "                time.sleep(CORRECT_SLEEP_LENGTH)\n",
    "                clear_output()\n",
    "                break\n",
    "        \n",
    "        if quit:\n",
    "            print(f\"Final results this session: {get_accuracy_str(n_correct, n_attempts)}\")\n",
    "            break\n",
    "        last_note = note\n",
    "        "
   ]
  },
  {
   "cell_type": "code",
   "execution_count": null,
   "id": "7139e0d4-af00-41dd-861a-b64bb4833404",
   "metadata": {},
   "outputs": [
    {
     "name": "stdout",
     "output_type": "stream",
     "text": [
      "Results: 5 / 11 - 45.45\n",
      "\n",
      "Possible note choices: ['A', 'C', 'E', 'G'].\n",
      "\n",
      "Type the note you think it is, 'q' to quit, or anything else to replay the sound. Click enter when done.\n"
     ]
    }
   ],
   "source": [
    "run_game()"
   ]
  },
  {
   "cell_type": "code",
   "execution_count": null,
   "id": "0ba973b0-7c95-492c-bd84-07bf73217b95",
   "metadata": {},
   "outputs": [],
   "source": []
  }
 ],
 "metadata": {
  "kernelspec": {
   "display_name": "Python 3 (ipykernel)",
   "language": "python",
   "name": "python3"
  },
  "language_info": {
   "codemirror_mode": {
    "name": "ipython",
    "version": 3
   },
   "file_extension": ".py",
   "mimetype": "text/x-python",
   "name": "python",
   "nbconvert_exporter": "python",
   "pygments_lexer": "ipython3",
   "version": "3.12.7"
  }
 },
 "nbformat": 4,
 "nbformat_minor": 5
}
